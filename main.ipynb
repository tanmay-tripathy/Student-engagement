{
 "cells": [
  {
   "cell_type": "code",
   "execution_count": null,
   "metadata": {},
   "outputs": [],
   "source": [
    "import tensorflow as tf\n",
    "import matplotlib.pyplot as plt\n",
    "import pathlib\n",
    "from PIL import Image\n",
    "import numpy as np"
   ]
  },
  {
   "cell_type": "code",
   "execution_count": null,
   "metadata": {},
   "outputs": [],
   "source": [
    "confused_dir = pathlib.Path(\"dataset/Engaged/confused\")\n",
    "engaged_dir = pathlib.Path(\"dataset/Engaged/engaged\")\n",
    "frustrated_dir = pathlib.Path(\"dataset/Engaged/frustrated\")\n",
    "bored_dir = pathlib.Path(\"dataset/Not engaged/bored\")\n",
    "drowsy_dir = pathlib.Path(\"dataset/Not engaged/drowsy\")\n",
    "looking_away_dir = pathlib.Path(\"dataset/Not engaged/Looking Away\")"
   ]
  },
  {
   "cell_type": "code",
   "execution_count": null,
   "metadata": {},
   "outputs": [],
   "source": [
    "img_dict = {\n",
    "    'confused' : list(confused_dir.glob(\"*\")),\n",
    "    'engaged' : list(engaged_dir.glob(\"*\")),\n",
    "    'frustrated' : list(frustrated_dir.glob(\"*\")),\n",
    "    'bored' : list(bored_dir.glob(\"*\")),\n",
    "    'drowsy' : list(drowsy_dir.glob(\"*\")),\n",
    "    'looking_away' : list(looking_away_dir.glob(\"*\"))\n",
    "}"
   ]
  },
  {
   "cell_type": "code",
   "execution_count": null,
   "metadata": {},
   "outputs": [],
   "source": [
    "label_dict = {\n",
    "    'confused' : 0,\n",
    "    'engaged' : 1,\n",
    "    'frustrated' : 2,\n",
    "    'bored' : 3,\n",
    "    'drowsy' : 4,\n",
    "    'looking_away' : 5,\n",
    "}\n",
    "\n",
    "label_class = ['confused','engaged','frustrated','bored','drowsy','looking_away']"
   ]
  },
  {
   "cell_type": "code",
   "execution_count": null,
   "metadata": {},
   "outputs": [],
   "source": [
    "X = []\n",
    "y = []\n",
    "\n",
    "for label, images in img_dict.items():\n",
    "    for image in images:\n",
    "        image = Image.open(image).resize([360,360])\n",
    "        X.append(np.asarray(image))\n",
    "        y.append(np.array(label_dict[label]))"
   ]
  },
  {
   "cell_type": "code",
   "execution_count": null,
   "metadata": {},
   "outputs": [],
   "source": [
    "X = np.array(X)\n",
    "y = np.array(y)"
   ]
  },
  {
   "cell_type": "code",
   "execution_count": null,
   "metadata": {},
   "outputs": [],
   "source": [
    "from sklearn.model_selection import train_test_split\n",
    "X_train , X_test , y_train , y_test = train_test_split(X,y,test_size=0.05,shuffle=True)"
   ]
  },
  {
   "cell_type": "code",
   "execution_count": null,
   "metadata": {},
   "outputs": [],
   "source": [
    "X_train = X_train / 255.0\n",
    "X_test = X_test / 255.0"
   ]
  },
  {
   "cell_type": "code",
   "execution_count": null,
   "metadata": {},
   "outputs": [],
   "source": [
    "model = tf.keras.Sequential([\n",
    "    tf.keras.layers.Conv2D(filters=32,kernel_size=(3,3),activation='relu',input_shape=(360,360,3)),\n",
    "    tf.keras.layers.MaxPooling2D((2,2)),\n",
    "\n",
    "    tf.keras.layers.Conv2D(filters=64,kernel_size=(3,3),activation='relu',input_shape=(360,360,3)),\n",
    "    tf.keras.layers.MaxPooling2D((2,2)),\n",
    "\n",
    "    tf.keras.layers.Flatten(),\n",
    "    tf.keras.layers.Dense(64,activation='relu'),\n",
    "    tf.keras.layers.Dense(6,activation='softmax')\n",
    "])"
   ]
  },
  {
   "cell_type": "code",
   "execution_count": null,
   "metadata": {},
   "outputs": [],
   "source": [
    "model.compile(\n",
    "    optimizer='adam',\n",
    "    loss='sparse_categorical_crossentropy',\n",
    "    metrics=['accuracy']\n",
    ")"
   ]
  },
  {
   "cell_type": "code",
   "execution_count": null,
   "metadata": {},
   "outputs": [],
   "source": [
    "model.fit(X_train,y_train,epochs = 2)"
   ]
  },
  {
   "cell_type": "code",
   "execution_count": null,
   "metadata": {},
   "outputs": [],
   "source": [
    "model.evaluate(X_test,y_test)"
   ]
  },
  {
   "cell_type": "code",
   "execution_count": null,
   "metadata": {},
   "outputs": [],
   "source": [
    "predictions = np.array(model.predict(X_test))"
   ]
  },
  {
   "cell_type": "code",
   "execution_count": null,
   "metadata": {},
   "outputs": [],
   "source": [
    "import random\n",
    "verify = random.randint(0,predictions.shape[0])\n",
    "prediction = np.argmax(predictions[verify])"
   ]
  },
  {
   "cell_type": "code",
   "execution_count": null,
   "metadata": {},
   "outputs": [],
   "source": [
    "plt.imshow(X_test[verify])\n",
    "plt.title(\"Sample Number : \"+str(verify))\n",
    "plt.xlabel(\"Predicted Label : \" + str(label_class[prediction]))\n",
    "plt.show()"
   ]
  },
  {
   "cell_type": "code",
   "execution_count": null,
   "metadata": {},
   "outputs": [],
   "source": [
    "rohit_dir = pathlib.Path(\"rohit\")\n",
    "rohit = list(rohit_dir.glob(\"*\"))"
   ]
  },
  {
   "cell_type": "code",
   "execution_count": null,
   "metadata": {},
   "outputs": [],
   "source": [
    "X_rohit = []\n",
    "for img in rohit:\n",
    "    X_rohit.append(np.asarray(Image.open(img).resize([360,360])))"
   ]
  },
  {
   "cell_type": "code",
   "execution_count": null,
   "metadata": {},
   "outputs": [],
   "source": [
    "X_rohit = np.array(X_rohit).astype(np.float32)"
   ]
  },
  {
   "cell_type": "code",
   "execution_count": null,
   "metadata": {},
   "outputs": [],
   "source": [
    "X_rohit = X_rohit / 255.0"
   ]
  },
  {
   "cell_type": "code",
   "execution_count": null,
   "metadata": {},
   "outputs": [],
   "source": [
    "pred_rohit = model.predict(X_rohit)"
   ]
  },
  {
   "cell_type": "code",
   "execution_count": null,
   "metadata": {},
   "outputs": [],
   "source": [
    "index = random.randint(0,pred_rohit.shape[0]-1)\n",
    "plt.imshow(X_rohit[index])\n",
    "plt.xlabel(\"Predicted Label : \" + str(label_class[np.argmax(pred_rohit[index])]))\n",
    "plt.title(\"Sample number : \"+str(index+1))\n",
    "plt.show()"
   ]
  }
 ],
 "metadata": {
  "kernelspec": {
   "display_name": "Python 3.10.5 64-bit",
   "language": "python",
   "name": "python3"
  },
  "language_info": {
   "codemirror_mode": {
    "name": "ipython",
    "version": 3
   },
   "file_extension": ".py",
   "mimetype": "text/x-python",
   "name": "python",
   "nbconvert_exporter": "python",
   "pygments_lexer": "ipython3",
   "version": "3.10.5"
  },
  "orig_nbformat": 4,
  "vscode": {
   "interpreter": {
    "hash": "26de051ba29f2982a8de78e945f0abaf191376122a1563185a90213a26c5da77"
   }
  }
 },
 "nbformat": 4,
 "nbformat_minor": 2
}
